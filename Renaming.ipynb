{
 "cells": [
  {
   "cell_type": "code",
   "execution_count": 1,
   "id": "e1f9bc9d-7e78-46bc-87be-1641c303c134",
   "metadata": {},
   "outputs": [],
   "source": [
    "import numpy \n",
    "import os\n",
    "from pathlib import Path\n",
    "from glob import glob"
   ]
  },
  {
   "cell_type": "code",
   "execution_count": 3,
   "id": "b2fc8852-9446-47f0-9aee-652ae6540c88",
   "metadata": {
    "collapsed": true,
    "jupyter": {
     "outputs_hidden": true
    },
    "tags": []
   },
   "outputs": [
    {
     "name": "stdout",
     "output_type": "stream",
     "text": [
      "White_Last_Layer_Adversarial_Accuracy_Attack_T_10_Predict_T_250.txt\n",
      "White_Last_Layer_Adversarial_Accuracy_Attack_T_15_Predict_T_250.txt\n",
      "White_Last_Layer_Adversarial_Accuracy_Attack_T_20_Predict_T_250.txt\n",
      "White_Last_Layer_Adversarial_Accuracy_Attack_T_25_Predict_T_250.txt\n",
      "White_Last_Layer_Adversarial_Accuracy_Attack_T_29_Predict_T_250.txt\n",
      "White_Last_Layer_Adversarial_Accuracy_Attack_T_60_Predict_T_250.txt\n",
      "White_Last_Layer_Adversarial_Accuracy_Attack_T_70_Predict_T_250.txt\n",
      "White_Last_Layer_Norm_100_Adversarial_Accuracy_Attack_T_10_Predict_T_250.txt\n",
      "White_Last_Layer_Norm_100_Adversarial_Accuracy_Attack_T_29_Predict_T_250.txt\n",
      "White_Last_Layer_Norm_100_Adversarial_Accuracy_Attack_T_60_Predict_T_250.txt\n",
      "White_Last_Layer_Norm_100_Adversarial_Accuracy_Attack_T_70_Predict_T_250.txt\n",
      "White_Last_Layer_Norm_100_Adversarial_Accuracy_Attack_T_70_Predict_T_250.txt\n",
      "White_Last_Layer_Norm_2_Adversarial_Accuracy_Attack_T_10_Predict_T_250.txt\n",
      "White_Last_Layer_Norm_2_Adversarial_Accuracy_Attack_T_15_Predict_T_250.txt\n",
      "White_Last_Layer_Norm_2_Adversarial_Accuracy_Attack_T_25_Predict_T_250.txt\n",
      "White_Last_Layer_Norm_2_Adversarial_Accuracy_Attack_T_29_Predict_T_250.txt\n",
      "White_Last_Layer_Norm_2_Adversarial_Accuracy_Attack_T_60_Predict_T_250.txt\n",
      "White_Last_Layer_Norm_2_Adversarial_Accuracy_Attack_T_70_Predict_T_250.txt\n",
      "White_Last_Layer_Norm_100_Adversarial_Accuracy_Attack_T_70_Predict_T_250.txt\n",
      "White_Last_Layer_Norm_2_Adversarial_Accuracy_Attack_T_10_Predict_T_250.txt\n",
      "White_Last_Layer_Norm_2_Adversarial_Accuracy_Attack_T_15_Predict_T_250.txt\n",
      "White_Last_Layer_Norm_2_Adversarial_Accuracy_Attack_T_25_Predict_T_250.txt\n",
      "White_Last_Layer_Norm_2_Adversarial_Accuracy_Attack_T_29_Predict_T_250.txt\n",
      "White_Last_Layer_Norm_2_Adversarial_Accuracy_Attack_T_60_Predict_T_250.txt\n",
      "White_Last_Layer_Norm_2_Adversarial_Accuracy_Attack_T_70_Predict_T_250.txt\n",
      "White_Last_Layer_Norm_100_Adversarial_Accuracy_Attack_T_70_Predict_T_250.txt\n",
      "White_Last_Layer_Norm_2_Adversarial_Accuracy_Attack_T_10_Predict_T_250.txt\n",
      "White_Last_Layer_Norm_2_Adversarial_Accuracy_Attack_T_15_Predict_T_250.txt\n",
      "White_Last_Layer_Norm_2_Adversarial_Accuracy_Attack_T_25_Predict_T_250.txt\n",
      "White_Last_Layer_Norm_2_Adversarial_Accuracy_Attack_T_29_Predict_T_250.txt\n",
      "White_Last_Layer_Norm_2_Adversarial_Accuracy_Attack_T_60_Predict_T_250.txt\n",
      "White_Last_Layer_Norm_2_Adversarial_Accuracy_Attack_T_70_Predict_T_250.txt\n"
     ]
    }
   ],
   "source": [
    "for path in Path('results/CIFAR10_results/EP/cel/2023-06-14/').rglob('White_Last_Layer*.txt'):\n",
    "    print(path.name)"
   ]
  },
  {
   "cell_type": "code",
   "execution_count": 5,
   "id": "21da5423-7baa-48fa-bd1c-647abcb95972",
   "metadata": {},
   "outputs": [],
   "source": [
    "for filename in glob('results\\CIFAR10_results\\EP\\cel\\**\\**\\White_Last_Layer*.txt', recursive=True):\n",
    "    new_filename = filename.replace(\"White_Last_Layer\", \"PGD\")\n",
    "    new_filename = new_filename.replace(\"_Adversarial_Accuracy\", \"\")\n",
    "    os.rename(filename,new_filename)"
   ]
  },
  {
   "cell_type": "code",
   "execution_count": 10,
   "id": "64d76bbf-c0b7-40eb-83ee-ded4eb174abf",
   "metadata": {},
   "outputs": [],
   "source": [
    "for filename in glob('results\\CIFAR10_results\\EP\\cel\\**\\**\\HSJ*.txt', recursive=True):\n",
    "    new_filename = filename.replace(\"HSJ\", \"Square\")\n",
    "    new_filename = new_filename.replace(\"1000000\", \"1000\")\n",
    "    new_filename = new_filename.replace(\"1000000\", \"1000\")\n",
    "    os.rename(filename,new_filename)"
   ]
  },
  {
   "cell_type": "code",
   "execution_count": 11,
   "id": "dbe3900e-6d7f-432a-a7b3-1cd508279e0d",
   "metadata": {},
   "outputs": [],
   "source": [
    "for filename in glob('results\\CIFAR10_results\\ViT-CIFAR\\HSJ*.txt', recursive=True):\n",
    "    new_filename = filename.replace(\"HSJ\", \"Square\")\n",
    "    \n",
    "    os.rename(filename,new_filename)"
   ]
  },
  {
   "cell_type": "code",
   "execution_count": 15,
   "id": "596fbed9-829a-4110-bcd5-513b48f9d90c",
   "metadata": {},
   "outputs": [],
   "source": [
    "for filename in glob('results\\CIFAR10_results\\BaselineCNN\\*HSJ*.txt', recursive=True):\n",
    "    new_filename = filename.replace(\"HSJ\", \"Square\")\n",
    "    \n",
    "    os.rename(filename,new_filename)"
   ]
  },
  {
   "cell_type": "code",
   "execution_count": 20,
   "id": "00fea15f-1e81-4529-af5e-1d1341164560",
   "metadata": {},
   "outputs": [],
   "source": [
    "for filename in glob('results\\CIFAR10_results\\BaselineCNN\\*Max_Evals_1000000*.txt', recursive=True):\n",
    "    new_filename = filename.replace(\"1000000\", \"1000\")\n",
    "    \n",
    "    os.rename(filename,new_filename)\n",
    "for filename in glob('results\\CIFAR10_results\\BaselineCNN\\*Max_Evals_2000000*.txt', recursive=True):\n",
    "    new_filename = filename.replace(\"2000000\", \"2000\")\n",
    "    \n",
    "    os.rename(filename,new_filename)"
   ]
  },
  {
   "cell_type": "code",
   "execution_count": 14,
   "id": "89d026c6-5c52-4a9b-8a91-d00185dd3028",
   "metadata": {},
   "outputs": [],
   "source": [
    "for filename in glob('results\\CIFAR10_results\\EP\\cel\\**\\**\\AA*.txt', recursive=True):\n",
    "    new_filename = filename.replace(\"White_Last_Layer\", \"PGD\")\n",
    "    new_filename = new_filename.replace(\"1000000\", \"1000\")\n",
    "    os.rename(filename,new_filename)"
   ]
  }
 ],
 "metadata": {
  "kernelspec": {
   "display_name": "Python 3 (ipykernel)",
   "language": "python",
   "name": "python3"
  },
  "language_info": {
   "codemirror_mode": {
    "name": "ipython",
    "version": 3
   },
   "file_extension": ".py",
   "mimetype": "text/x-python",
   "name": "python",
   "nbconvert_exporter": "python",
   "pygments_lexer": "ipython3",
   "version": "3.8.16"
  }
 },
 "nbformat": 4,
 "nbformat_minor": 5
}
